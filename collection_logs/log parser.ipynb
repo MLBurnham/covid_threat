{
 "cells": [
  {
   "cell_type": "code",
   "execution_count": 108,
   "metadata": {},
   "outputs": [],
   "source": [
    "import re\n",
    "import pandas as pd\n",
    "import sqlite3"
   ]
  },
  {
   "cell_type": "markdown",
   "metadata": {},
   "source": [
    "# Parse logs"
   ]
  },
  {
   "cell_type": "code",
   "execution_count": 64,
   "metadata": {},
   "outputs": [],
   "source": [
    "# define the search pattern\n",
    "pattern = re.compile(r\"(\\d+-\\d+-\\d+ \\d+:\\d+:\\d+,\\d+:__main__:User \\(\\d+, \\d+\\) is protected)\")\n",
    "\n",
    "# list of logs to parse\n",
    "logs = ['ignore/collection1.log', 'ignore/collection2.log', 'ignore/collection3.log']\n",
    "\n",
    "# for each log, read in each line and return pattern matches\n",
    "lines = []\n",
    "for log in logs:\n",
    "    for i, line in enumerate(open(log)):\n",
    "        for match in re.finditer(pattern, line):\n",
    "            lines.append(match.group())\n",
    "\n",
    "# get the dates from returned lines\n",
    "dates = [line[0:10] for line in lines]\n",
    "\n",
    "# get the users from matched lines\n",
    "user_pattern = re.compile(r\"(?<=(User \\())\\d+, \\d+(?=\\) is protected)\")\n",
    "users = [re.search(user_pattern, line).group() for line in lines]\n",
    "\n",
    "# split the two user IDs\n",
    "users_1 = [user.split(', ')[0] for user in users]\n",
    "users_2 = [user.split(', ')[1] for user in users]\n",
    "\n",
    "# conver to a DF\n",
    "df = pd.DataFrame({'date': dates, 'user1':users_1, 'user2':users_2})\n",
    "\n",
    "# keep only the date and the first user ID\n",
    "dates = df['date'].unique()\n",
    "users = df['user1'].unique()\n",
    "\n",
    "# conver to a data frame\n",
    "fails = pd.DataFrame(index = users, columns = dates)\n",
    "\n",
    "# set all values to zero\n",
    "for col in fails.columns:\n",
    "    fails[col].values[:] = 0\n",
    "\n",
    "%%time\n",
    "# impute values for failed pulls\n",
    "for row in df.index:\n",
    "    date = df.loc[row, 'date']\n",
    "    user = df.loc[row, 'user1']\n",
    "    fails.loc[user, date] = 1"
   ]
  },
  {
   "cell_type": "markdown",
   "metadata": {},
   "source": [
    "# Flag bans"
   ]
  },
  {
   "cell_type": "code",
   "execution_count": 106,
   "metadata": {},
   "outputs": [],
   "source": [
    "# define the window of days before and after the ban date\n",
    "window = fails[fails['2021-01-09'] == 1].loc[:,'2021-01-01':'2021-01-14']\n",
    "\n",
    "# users who were active for 5 consecutive days before 1/9, and inactive for 5 consecutive days after 1/9\n",
    "banned = window[(window.loc[:,'2021-01-04':'2021-01-08'].sum(axis = 1) == 0) & (window.loc[:,'2021-01-09':'2021-01-14'].sum(axis = 1) == 5)]\n",
    "\n",
    "# convert to a list of the banned users\n",
    "banned = list(banned.index)\n",
    "# convert to integers\n",
    "banned = [int(user) for user in banned]"
   ]
  },
  {
   "cell_type": "code",
   "execution_count": 111,
   "metadata": {},
   "outputs": [],
   "source": [
    "# pull data from the user database\n",
    "conn = sqlite3.connect('../../OneDrive/SoDA 501/covid_twitter/users.db')\n",
    "c = conn.cursor() \n",
    "c.execute(\"SELECT * FROM twitter_users\")\n",
    "users=c.fetchall()\n",
    "conn.close()\n",
    "\n",
    "users = pd.DataFrame(users, columns = ['user', 'location', 'city', 'state'])"
   ]
  },
  {
   "cell_type": "code",
   "execution_count": 129,
   "metadata": {},
   "outputs": [],
   "source": [
    "# add the flag for banned users to the user data\n",
    "banned_col = [1 if user in banned else 0 for user in users['user']]\n",
    "users['banned'] = banned_col"
   ]
  },
  {
   "cell_type": "markdown",
   "metadata": {},
   "source": [
    "# Add ideology score"
   ]
  },
  {
   "cell_type": "code",
   "execution_count": 139,
   "metadata": {},
   "outputs": [],
   "source": [
    "# add ideology score to the user data\n",
    "ideology = pd.read_csv('ideology_scores.csv')\n",
    "ideology = ideology.filter(['ID', 'mean', 'Rhat'])\n",
    "ideology.rename(columns = {'ID': 'user', 'mean':'ideology'}, inplace = True)\n",
    "\n",
    "users = pd.merge(users, ideology, how = 'left', left_on = 'user', right_on ='user')"
   ]
  },
  {
   "cell_type": "code",
   "execution_count": 161,
   "metadata": {},
   "outputs": [],
   "source": [
    "# update the database\n",
    "conn = sqlite3.connect('../../OneDrive/SoDA 501/covid_twitter/users.db')\n",
    "c = conn.cursor() \n",
    "c.execute(\"DROP TABLE twitter_users\")\n",
    "users.to_sql('twitter_users', con = conn, index = False)\n",
    "c.execute(\"SELECT * FROM twitter_users\")\n",
    "test=c.fetchall()\n",
    "conn.close()"
   ]
  }
 ],
 "metadata": {
  "kernelspec": {
   "display_name": "Py (thesis)",
   "language": "python",
   "name": "thesis"
  },
  "language_info": {
   "codemirror_mode": {
    "name": "ipython",
    "version": 3
   },
   "file_extension": ".py",
   "mimetype": "text/x-python",
   "name": "python",
   "nbconvert_exporter": "python",
   "pygments_lexer": "ipython3",
   "version": "3.7.8"
  }
 },
 "nbformat": 4,
 "nbformat_minor": 4
}
