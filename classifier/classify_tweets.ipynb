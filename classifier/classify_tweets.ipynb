{
 "cells": [
  {
   "cell_type": "code",
   "execution_count": 1,
   "metadata": {},
   "outputs": [],
   "source": [
    "import pandas as pd\n",
    "from simpletransformers.classification import ClassificationModel\n",
    "import torch"
   ]
  },
  {
   "cell_type": "code",
   "execution_count": 6,
   "metadata": {},
   "outputs": [],
   "source": [
    "# instantiate the model\n",
    "model = ClassificationModel('electra', 'electra_model/checkpoint-500', use_cuda=True)\n",
    "# read in tweets\n",
    "tweets = pd.read_csv(\"covid_tweets.csv\")\n",
    "\n",
    "# lower case the tweets\n",
    "tweets['text'] = [str(text).lower() for text in tweets['text']]\n",
    "\n",
    "# subset to a reasonable size that won't crash your computer\n",
    "tweets_sub = tweets[4000000:]\n",
    "# this is to prevent a memory leak in pytorch\n",
    "torch.multiprocessing.set_sharing_strategy('file_system')\n",
    "\n",
    "# classify\n",
    "tweets_sub['threat_min'], raw_outputs = model.predict(list(tweets_sub['text']))\n",
    "# export to csv\n",
    "tweets_sub.to_csv('classified_tweets.csv', index = False)"
   ]
  }
 ],
 "metadata": {
  "kernelspec": {
   "display_name": "Py (thesis)",
   "language": "python",
   "name": "thesis"
  },
  "language_info": {
   "codemirror_mode": {
    "name": "ipython",
    "version": 3
   },
   "file_extension": ".py",
   "mimetype": "text/x-python",
   "name": "python",
   "nbconvert_exporter": "python",
   "pygments_lexer": "ipython3",
   "version": "3.7.8"
  }
 },
 "nbformat": 4,
 "nbformat_minor": 4
}
